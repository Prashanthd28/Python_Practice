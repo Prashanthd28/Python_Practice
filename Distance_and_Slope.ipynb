{
 "cells": [
  {
   "cell_type": "code",
   "execution_count": 1,
   "metadata": {},
   "outputs": [],
   "source": [
    "#PROGRAM TO CALCULATE DISTANCE AND SLOPE OF CIRCUMFERNCE WITH THEIR CO-ORDINATES \n",
    "\n",
    "import math as m    #-----------IMPORTING MATH OPERATIONS FOR USING POW AND SQUARE ROOT"
   ]
  },
  {
   "cell_type": "code",
   "execution_count": 32,
   "metadata": {},
   "outputs": [],
   "source": [
    "#CREATING GEOMETRY CLASS\n",
    "class Geometry():\n",
    "    \n",
    "    #INITIALISING CIRCUMFERNCE VALUES\n",
    "    def __init__(self, c1, c2):\n",
    "        self.c1 = c1\n",
    "        self.c2 = c2\n",
    "     \n",
    "    #CALCULATING X CO-ORDINATES INSIDE METHOD\n",
    "    def get_xcoordinates(self):\n",
    "        return (self.c2[0] - self.c1[0])\n",
    "        \n",
    "    #CALCULATING Y CO-ORDINATES INSIDE ANOTHER METHOD\n",
    "    def get_ycoordinates(self):\n",
    "        return (self.c2[1] - self.c1[1])\n",
    "    \n",
    "    #NOW THE FINAL CALCULATION FOR DISTANCE\n",
    "    def get_distance(self):\n",
    "        return m.sqrt(m.pow(self.get_xcoordinates(),2) + m.pow(self.get_ycoordinates(),2))\n",
    "    \n",
    "    #NOW THE FINAL CALCULATION FOR SLOPE\n",
    "    def get_slope(self):\n",
    "        return self.get_ycoordinates() / self.get_xcoordinates()"
   ]
  },
  {
   "cell_type": "code",
   "execution_count": 33,
   "metadata": {},
   "outputs": [],
   "source": [
    "#GIVING INPUT TO THE CIRCUMFERNCE CO-ORDINATES\n",
    "my_geo = Geometry(c1=(3,2),c2=(8,10))\n"
   ]
  },
  {
   "cell_type": "code",
   "execution_count": 34,
   "metadata": {},
   "outputs": [
    {
     "data": {
      "text/plain": [
       "9.433981132056603"
      ]
     },
     "execution_count": 34,
     "metadata": {},
     "output_type": "execute_result"
    }
   ],
   "source": [
    "my_geo.get_distance()"
   ]
  },
  {
   "cell_type": "code",
   "execution_count": 35,
   "metadata": {},
   "outputs": [
    {
     "data": {
      "text/plain": [
       "1.6"
      ]
     },
     "execution_count": 35,
     "metadata": {},
     "output_type": "execute_result"
    }
   ],
   "source": [
    "my_geo.get_slope()"
   ]
  },
  {
   "cell_type": "code",
   "execution_count": null,
   "metadata": {},
   "outputs": [],
   "source": []
  }
 ],
 "metadata": {
  "kernelspec": {
   "display_name": "Python 3",
   "language": "python",
   "name": "python3"
  },
  "language_info": {
   "codemirror_mode": {
    "name": "ipython",
    "version": 3
   },
   "file_extension": ".py",
   "mimetype": "text/x-python",
   "name": "python",
   "nbconvert_exporter": "python",
   "pygments_lexer": "ipython3",
   "version": "3.8.3"
  }
 },
 "nbformat": 4,
 "nbformat_minor": 4
}
