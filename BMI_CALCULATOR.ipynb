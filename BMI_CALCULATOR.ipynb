{
 "cells": [
  {
   "cell_type": "code",
   "execution_count": 11,
   "metadata": {},
   "outputs": [],
   "source": [
    "#CALCULATION OF THE BMI \n",
    "\n",
    "def bmi_calc(weight,height):\n",
    "    bmi = weight / (height ** 2)\n",
    "    return bmi"
   ]
  },
  {
   "cell_type": "code",
   "execution_count": 15,
   "metadata": {},
   "outputs": [],
   "source": [
    "#CHECK THE BMI CATEGORY\n",
    "\n",
    "def check_bmi(result):\n",
    "    if result <= 18.5:\n",
    "        print(\"You are underweight\")\n",
    "    elif result >= 18.5 and result <= 25:\n",
    "        print(\"Your bmi is PERFECT!\")\n",
    "    elif result >= 25 and result <= 29.9:\n",
    "        print(\"Your overweight!\")\n",
    "    else:\n",
    "        print(\"OBESITY = your BMI is greater than 30\")"
   ]
  },
  {
   "cell_type": "code",
   "execution_count": 13,
   "metadata": {},
   "outputs": [
    {
     "name": "stdout",
     "output_type": "stream",
     "text": [
      "Enter your weight in kg: 96\n",
      "Enter your height in meters: 1.8\n",
      "Your BMI value is 29.629629629629626\n",
      "your overweight!\n"
     ]
    }
   ],
   "source": [
    "#ACTUAL PROGRAM FLOW\n",
    "\n",
    "weight = float(input(\"Enter your weight in kg: \"))\n",
    "height = float(input(\"Enter your height in meters: \"))\n",
    "result = bmi_calc(weight,height)\n",
    "print(f\"Your BMI value is {result}\")\n",
    "check_bmi(result)"
   ]
  }
 ],
 "metadata": {
  "kernelspec": {
   "display_name": "Python 3",
   "language": "python",
   "name": "python3"
  },
  "language_info": {
   "codemirror_mode": {
    "name": "ipython",
    "version": 3
   },
   "file_extension": ".py",
   "mimetype": "text/x-python",
   "name": "python",
   "nbconvert_exporter": "python",
   "pygments_lexer": "ipython3",
   "version": "3.8.3"
  }
 },
 "nbformat": 4,
 "nbformat_minor": 4
}
