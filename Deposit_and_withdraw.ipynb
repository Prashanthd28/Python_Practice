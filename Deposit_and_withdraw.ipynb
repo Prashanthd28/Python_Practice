{
 "cells": [
  {
   "cell_type": "code",
   "execution_count": 13,
   "metadata": {},
   "outputs": [],
   "source": [
    "class Account():\n",
    "    \n",
    "    def __init__(self,owner_name,owner_bal):\n",
    "        self.owner_name = owner_name\n",
    "        self.owner_bal = owner_bal\n",
    "        self.print_bal()\n",
    "        \n",
    "    def print_bal(self):\n",
    "        print(f\"{self.owner_name} your Current Balance amount is: {self.owner_bal}\" )\n",
    "        \n",
    "    def owner_deposit(self,deposit):\n",
    "        self.owner_bal = self.owner_bal + deposit\n",
    "        print(f'Successfully! Deposited {deposit} to {self.owner_name}')\n",
    "        self.print_bal()\n",
    "    \n",
    "    def owner_withdrawal(self,withdraw):\n",
    "        while True:\n",
    "            withdraw = int(input(f\"{owner_name} Enter the amount to Withdraw: \"))\n",
    "            result = self.owner_bal - withdraw\n",
    "            try:\n",
    "                if (result < 0):\n",
    "                    raise Exception\n",
    "                else:\n",
    "                    print(f\"{owner_name} you have withdrawn successfull!\\nYour remaining balance is: {result}\")\n",
    "            except Exception:\n",
    "                print(f\"Not sufficient balance to withdraw {withdraw} from your account\")\n",
    "                print(\"Please enter the withdraw amount again!\")\n",
    "                continue\n",
    "            else:\n",
    "                break"
   ]
  },
  {
   "cell_type": "code",
   "execution_count": 11,
   "metadata": {},
   "outputs": [
    {
     "name": "stdout",
     "output_type": "stream",
     "text": [
      "Enter your name: Prashanth\n",
      "Prashanth your Current Balance amount is: 1000\n",
      "Enter the amount to be deposited: 2000\n",
      "Successfully! Deposited 2000 to Prashanth\n",
      "Prashanth your Current Balance amount is: 3000\n"
     ]
    }
   ],
   "source": [
    "owner_name = input(\"Enter your name: \")\n",
    "my_acc = Account(owner_name, 1000)\n",
    "flag = 1\n",
    "deposit = 0\n",
    "while True:\n",
    "    try:\n",
    "        deposit = int(input(\"Enter the amount to be deposited: \"))\n",
    "    except:\n",
    "        print(\"Please enter a number!\")\n",
    "        continue\n",
    "    else:\n",
    "        break  \n",
    "my_acc.owner_deposit(deposit)"
   ]
  },
  {
   "cell_type": "code",
   "execution_count": 12,
   "metadata": {},
   "outputs": [
    {
     "name": "stdout",
     "output_type": "stream",
     "text": [
      "Prashanth Enter the amount to Withdraw: 2500\n",
      "Prashanth you have withdrawn successfull!\n",
      "Your remaining balance is500\n"
     ]
    }
   ],
   "source": [
    "my_acc.owner_withdrawal(withdraw)"
   ]
  },
  {
   "cell_type": "code",
   "execution_count": 5,
   "metadata": {},
   "outputs": [
    {
     "name": "stdout",
     "output_type": "stream",
     "text": [
      "Successfully! Deposited 1000 to Prashanth\n",
      "Prashanth your Current Balance amount is: 5000\n"
     ]
    }
   ],
   "source": [
    "my_acc.owner_deposit(1000)"
   ]
  }
 ],
 "metadata": {
  "kernelspec": {
   "display_name": "Python 3",
   "language": "python",
   "name": "python3"
  },
  "language_info": {
   "codemirror_mode": {
    "name": "ipython",
    "version": 3
   },
   "file_extension": ".py",
   "mimetype": "text/x-python",
   "name": "python",
   "nbconvert_exporter": "python",
   "pygments_lexer": "ipython3",
   "version": "3.8.3"
  }
 },
 "nbformat": 4,
 "nbformat_minor": 4
}
